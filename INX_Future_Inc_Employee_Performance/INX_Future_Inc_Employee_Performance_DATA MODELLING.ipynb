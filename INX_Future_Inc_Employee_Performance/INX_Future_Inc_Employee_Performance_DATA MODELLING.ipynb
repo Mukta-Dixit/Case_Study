{
 "cells": [
  {
   "cell_type": "markdown",
   "metadata": {},
   "source": [
    "### A trained model which can predict the employee performance based on factors as inputs. This will be used to hire employees"
   ]
  },
  {
   "cell_type": "markdown",
   "metadata": {},
   "source": [
    "### Import libraries"
   ]
  },
  {
   "cell_type": "code",
   "execution_count": 1,
   "metadata": {},
   "outputs": [],
   "source": [
    "import numpy as np\n",
    "import pandas as pd\n",
    "import matplotlib.pyplot as plt\n",
    "import seaborn as sns\n",
    "from sklearn.preprocessing import normalize\n",
    "from sklearn.model_selection import train_test_split"
   ]
  },
  {
   "cell_type": "markdown",
   "metadata": {},
   "source": [
    "### Creating data frame"
   ]
  },
  {
   "cell_type": "code",
   "execution_count": 2,
   "metadata": {},
   "outputs": [],
   "source": [
    "perfo=pd.read_csv(\"pro_new.csv\")"
   ]
  },
  {
   "cell_type": "markdown",
   "metadata": {},
   "source": [
    "### Reading first five columns"
   ]
  },
  {
   "cell_type": "code",
   "execution_count": 3,
   "metadata": {
    "scrolled": true
   },
   "outputs": [
    {
     "data": {
      "text/html": [
       "<div>\n",
       "<style scoped>\n",
       "    .dataframe tbody tr th:only-of-type {\n",
       "        vertical-align: middle;\n",
       "    }\n",
       "\n",
       "    .dataframe tbody tr th {\n",
       "        vertical-align: top;\n",
       "    }\n",
       "\n",
       "    .dataframe thead th {\n",
       "        text-align: right;\n",
       "    }\n",
       "</style>\n",
       "<table border=\"1\" class=\"dataframe\">\n",
       "  <thead>\n",
       "    <tr style=\"text-align: right;\">\n",
       "      <th></th>\n",
       "      <th>Unnamed: 0</th>\n",
       "      <th>Age</th>\n",
       "      <th>DistanceFromHome</th>\n",
       "      <th>EmpEducationLevel</th>\n",
       "      <th>EmpEnvironmentSatisfaction</th>\n",
       "      <th>EmpHourlyRate</th>\n",
       "      <th>EmpJobInvolvement</th>\n",
       "      <th>EmpJobLevel</th>\n",
       "      <th>EmpJobSatisfaction</th>\n",
       "      <th>NumCompaniesWorked</th>\n",
       "      <th>...</th>\n",
       "      <th>EmpJobRole_Senior Manager R&amp;D</th>\n",
       "      <th>EmpJobRole_Technical Architect</th>\n",
       "      <th>EmpJobRole_Technical Lead</th>\n",
       "      <th>BusinessTravelFrequency_Non-Travel</th>\n",
       "      <th>BusinessTravelFrequency_Travel_Frequently</th>\n",
       "      <th>BusinessTravelFrequency_Travel_Rarely</th>\n",
       "      <th>OverTime_No</th>\n",
       "      <th>OverTime_Yes</th>\n",
       "      <th>Attrition_No</th>\n",
       "      <th>Attrition_Yes</th>\n",
       "    </tr>\n",
       "  </thead>\n",
       "  <tbody>\n",
       "    <tr>\n",
       "      <th>0</th>\n",
       "      <td>0</td>\n",
       "      <td>32</td>\n",
       "      <td>10</td>\n",
       "      <td>3</td>\n",
       "      <td>4</td>\n",
       "      <td>55</td>\n",
       "      <td>3</td>\n",
       "      <td>2</td>\n",
       "      <td>4</td>\n",
       "      <td>1</td>\n",
       "      <td>...</td>\n",
       "      <td>0</td>\n",
       "      <td>0</td>\n",
       "      <td>0</td>\n",
       "      <td>0</td>\n",
       "      <td>0</td>\n",
       "      <td>1</td>\n",
       "      <td>1</td>\n",
       "      <td>0</td>\n",
       "      <td>1</td>\n",
       "      <td>0</td>\n",
       "    </tr>\n",
       "    <tr>\n",
       "      <th>1</th>\n",
       "      <td>1</td>\n",
       "      <td>47</td>\n",
       "      <td>14</td>\n",
       "      <td>4</td>\n",
       "      <td>4</td>\n",
       "      <td>42</td>\n",
       "      <td>3</td>\n",
       "      <td>2</td>\n",
       "      <td>1</td>\n",
       "      <td>2</td>\n",
       "      <td>...</td>\n",
       "      <td>0</td>\n",
       "      <td>0</td>\n",
       "      <td>0</td>\n",
       "      <td>0</td>\n",
       "      <td>0</td>\n",
       "      <td>1</td>\n",
       "      <td>1</td>\n",
       "      <td>0</td>\n",
       "      <td>1</td>\n",
       "      <td>0</td>\n",
       "    </tr>\n",
       "    <tr>\n",
       "      <th>2</th>\n",
       "      <td>2</td>\n",
       "      <td>40</td>\n",
       "      <td>5</td>\n",
       "      <td>4</td>\n",
       "      <td>4</td>\n",
       "      <td>48</td>\n",
       "      <td>2</td>\n",
       "      <td>3</td>\n",
       "      <td>1</td>\n",
       "      <td>5</td>\n",
       "      <td>...</td>\n",
       "      <td>0</td>\n",
       "      <td>0</td>\n",
       "      <td>0</td>\n",
       "      <td>0</td>\n",
       "      <td>1</td>\n",
       "      <td>0</td>\n",
       "      <td>0</td>\n",
       "      <td>1</td>\n",
       "      <td>1</td>\n",
       "      <td>0</td>\n",
       "    </tr>\n",
       "    <tr>\n",
       "      <th>3</th>\n",
       "      <td>3</td>\n",
       "      <td>41</td>\n",
       "      <td>10</td>\n",
       "      <td>4</td>\n",
       "      <td>2</td>\n",
       "      <td>73</td>\n",
       "      <td>2</td>\n",
       "      <td>5</td>\n",
       "      <td>4</td>\n",
       "      <td>3</td>\n",
       "      <td>...</td>\n",
       "      <td>0</td>\n",
       "      <td>0</td>\n",
       "      <td>0</td>\n",
       "      <td>0</td>\n",
       "      <td>0</td>\n",
       "      <td>1</td>\n",
       "      <td>1</td>\n",
       "      <td>0</td>\n",
       "      <td>1</td>\n",
       "      <td>0</td>\n",
       "    </tr>\n",
       "    <tr>\n",
       "      <th>4</th>\n",
       "      <td>4</td>\n",
       "      <td>60</td>\n",
       "      <td>16</td>\n",
       "      <td>4</td>\n",
       "      <td>1</td>\n",
       "      <td>84</td>\n",
       "      <td>3</td>\n",
       "      <td>2</td>\n",
       "      <td>1</td>\n",
       "      <td>8</td>\n",
       "      <td>...</td>\n",
       "      <td>0</td>\n",
       "      <td>0</td>\n",
       "      <td>0</td>\n",
       "      <td>0</td>\n",
       "      <td>0</td>\n",
       "      <td>1</td>\n",
       "      <td>1</td>\n",
       "      <td>0</td>\n",
       "      <td>1</td>\n",
       "      <td>0</td>\n",
       "    </tr>\n",
       "  </tbody>\n",
       "</table>\n",
       "<p>5 rows × 63 columns</p>\n",
       "</div>"
      ],
      "text/plain": [
       "   Unnamed: 0  Age  DistanceFromHome  EmpEducationLevel  \\\n",
       "0           0   32                10                  3   \n",
       "1           1   47                14                  4   \n",
       "2           2   40                 5                  4   \n",
       "3           3   41                10                  4   \n",
       "4           4   60                16                  4   \n",
       "\n",
       "   EmpEnvironmentSatisfaction  EmpHourlyRate  EmpJobInvolvement  EmpJobLevel  \\\n",
       "0                           4             55                  3            2   \n",
       "1                           4             42                  3            2   \n",
       "2                           4             48                  2            3   \n",
       "3                           2             73                  2            5   \n",
       "4                           1             84                  3            2   \n",
       "\n",
       "   EmpJobSatisfaction  NumCompaniesWorked      ...        \\\n",
       "0                   4                   1      ...         \n",
       "1                   1                   2      ...         \n",
       "2                   1                   5      ...         \n",
       "3                   4                   3      ...         \n",
       "4                   1                   8      ...         \n",
       "\n",
       "   EmpJobRole_Senior Manager R&D  EmpJobRole_Technical Architect  \\\n",
       "0                              0                               0   \n",
       "1                              0                               0   \n",
       "2                              0                               0   \n",
       "3                              0                               0   \n",
       "4                              0                               0   \n",
       "\n",
       "   EmpJobRole_Technical Lead  BusinessTravelFrequency_Non-Travel  \\\n",
       "0                          0                                   0   \n",
       "1                          0                                   0   \n",
       "2                          0                                   0   \n",
       "3                          0                                   0   \n",
       "4                          0                                   0   \n",
       "\n",
       "   BusinessTravelFrequency_Travel_Frequently  \\\n",
       "0                                          0   \n",
       "1                                          0   \n",
       "2                                          1   \n",
       "3                                          0   \n",
       "4                                          0   \n",
       "\n",
       "   BusinessTravelFrequency_Travel_Rarely  OverTime_No  OverTime_Yes  \\\n",
       "0                                      1            1             0   \n",
       "1                                      1            1             0   \n",
       "2                                      0            0             1   \n",
       "3                                      1            1             0   \n",
       "4                                      1            1             0   \n",
       "\n",
       "   Attrition_No  Attrition_Yes  \n",
       "0             1              0  \n",
       "1             1              0  \n",
       "2             1              0  \n",
       "3             1              0  \n",
       "4             1              0  \n",
       "\n",
       "[5 rows x 63 columns]"
      ]
     },
     "execution_count": 3,
     "metadata": {},
     "output_type": "execute_result"
    }
   ],
   "source": [
    "perfo.head()"
   ]
  },
  {
   "cell_type": "markdown",
   "metadata": {},
   "source": [
    "### Dropping column named unnamed since it is an index"
   ]
  },
  {
   "cell_type": "code",
   "execution_count": 4,
   "metadata": {},
   "outputs": [],
   "source": [
    "perfo.drop(\"Unnamed: 0\",axis=1,inplace=True)"
   ]
  },
  {
   "cell_type": "markdown",
   "metadata": {},
   "source": [
    "### Missing values"
   ]
  },
  {
   "cell_type": "code",
   "execution_count": 5,
   "metadata": {
    "scrolled": false
   },
   "outputs": [
    {
     "data": {
      "text/plain": [
       "Age                                          0\n",
       "DistanceFromHome                             0\n",
       "EmpEducationLevel                            0\n",
       "EmpEnvironmentSatisfaction                   0\n",
       "EmpHourlyRate                                0\n",
       "EmpJobInvolvement                            0\n",
       "EmpJobLevel                                  0\n",
       "EmpJobSatisfaction                           0\n",
       "NumCompaniesWorked                           0\n",
       "EmpLastSalaryHikePercent                     0\n",
       "EmpRelationshipSatisfaction                  0\n",
       "TotalWorkExperienceInYears                   0\n",
       "TrainingTimesLastYear                        0\n",
       "EmpWorkLifeBalance                           0\n",
       "ExperienceYearsAtThisCompany                 0\n",
       "ExperienceYearsInCurrentRole                 0\n",
       "YearsSinceLastPromotion                      0\n",
       "YearsWithCurrManager                         0\n",
       "PerformanceRating                            0\n",
       "Gender_Female                                0\n",
       "Gender_Male                                  0\n",
       "EducationBackground_Human Resources          0\n",
       "EducationBackground_Life Sciences            0\n",
       "EducationBackground_Marketing                0\n",
       "EducationBackground_Medical                  0\n",
       "EducationBackground_Other                    0\n",
       "EducationBackground_Technical Degree         0\n",
       "MaritalStatus_Divorced                       0\n",
       "MaritalStatus_Married                        0\n",
       "MaritalStatus_Single                         0\n",
       "                                            ..\n",
       "EmpDepartment_Finance                        0\n",
       "EmpDepartment_Human Resources                0\n",
       "EmpDepartment_Research & Development         0\n",
       "EmpDepartment_Sales                          0\n",
       "EmpJobRole_Business Analyst                  0\n",
       "EmpJobRole_Data Scientist                    0\n",
       "EmpJobRole_Delivery Manager                  0\n",
       "EmpJobRole_Developer                         0\n",
       "EmpJobRole_Finance Manager                   0\n",
       "EmpJobRole_Healthcare Representative         0\n",
       "EmpJobRole_Human Resources                   0\n",
       "EmpJobRole_Laboratory Technician             0\n",
       "EmpJobRole_Manager                           0\n",
       "EmpJobRole_Manager R&D                       0\n",
       "EmpJobRole_Manufacturing Director            0\n",
       "EmpJobRole_Research Director                 0\n",
       "EmpJobRole_Research Scientist                0\n",
       "EmpJobRole_Sales Executive                   0\n",
       "EmpJobRole_Sales Representative              0\n",
       "EmpJobRole_Senior Developer                  0\n",
       "EmpJobRole_Senior Manager R&D                0\n",
       "EmpJobRole_Technical Architect               0\n",
       "EmpJobRole_Technical Lead                    0\n",
       "BusinessTravelFrequency_Non-Travel           0\n",
       "BusinessTravelFrequency_Travel_Frequently    0\n",
       "BusinessTravelFrequency_Travel_Rarely        0\n",
       "OverTime_No                                  0\n",
       "OverTime_Yes                                 0\n",
       "Attrition_No                                 0\n",
       "Attrition_Yes                                0\n",
       "Length: 62, dtype: int64"
      ]
     },
     "execution_count": 5,
     "metadata": {},
     "output_type": "execute_result"
    }
   ],
   "source": [
    "perfo.isnull().sum()"
   ]
  },
  {
   "cell_type": "markdown",
   "metadata": {},
   "source": [
    "### Applying machine learning to train the given model"
   ]
  },
  {
   "cell_type": "code",
   "execution_count": 6,
   "metadata": {},
   "outputs": [],
   "source": [
    "attri=perfo.drop(\"PerformanceRating\",axis=1)\n",
    "classs=perfo.PerformanceRating"
   ]
  },
  {
   "cell_type": "markdown",
   "metadata": {},
   "source": [
    "### Normalization"
   ]
  },
  {
   "cell_type": "code",
   "execution_count": 7,
   "metadata": {},
   "outputs": [
    {
     "name": "stdout",
     "output_type": "stream",
     "text": [
      "0.0 0.969006183329157\n"
     ]
    }
   ],
   "source": [
    "#rescaling of data so that all the datas are from 0 to 1\n",
    "normal=normalize(attri)\n",
    "normal\n",
    "print(normal.min(),normal.max())"
   ]
  },
  {
   "cell_type": "code",
   "execution_count": null,
   "metadata": {},
   "outputs": [],
   "source": []
  },
  {
   "cell_type": "markdown",
   "metadata": {},
   "source": [
    "### Splitting the given data for all the attributes"
   ]
  },
  {
   "cell_type": "code",
   "execution_count": 8,
   "metadata": {},
   "outputs": [],
   "source": [
    "attri_train,attri_test,classs_train,classs_test=train_test_split(attri,classs,test_size=0.35)"
   ]
  },
  {
   "cell_type": "code",
   "execution_count": 9,
   "metadata": {},
   "outputs": [
    {
     "name": "stdout",
     "output_type": "stream",
     "text": [
      "      Age  DistanceFromHome  EmpEducationLevel  EmpEnvironmentSatisfaction  \\\n",
      "280    24                17                  2                           4   \n",
      "448    40                 9                  4                           4   \n",
      "390    31                 1                  4                           2   \n",
      "138    30                 8                  2                           3   \n",
      "383    35                18                  2                           3   \n",
      "1110   26                23                  3                           1   \n",
      "273    44                17                  3                           4   \n",
      "1030   27                 5                  3                           3   \n",
      "292    54                 1                  4                           4   \n",
      "816    50                 7                  2                           2   \n",
      "889    32                 8                  3                           2   \n",
      "470    35                 2                  3                           1   \n",
      "441    33                 8                  5                           4   \n",
      "1142   33                 1                  5                           1   \n",
      "648    36                10                  4                           2   \n",
      "0      32                10                  3                           4   \n",
      "583    49                11                  4                           4   \n",
      "320    43                 4                  4                           4   \n",
      "907    45                 4                  2                           3   \n",
      "463    35                28                  4                           2   \n",
      "85     36                 8                  3                           1   \n",
      "1097   28                17                  2                           3   \n",
      "995    38                 7                  2                           1   \n",
      "944    30                26                  4                           3   \n",
      "701    43                11                  3                           1   \n",
      "754    35                 1                  4                           3   \n",
      "1189   33                 3                  3                           1   \n",
      "1132   36                10                  4                           2   \n",
      "1102   42                29                  2                           1   \n",
      "354    48                 4                  3                           4   \n",
      "...   ...               ...                ...                         ...   \n",
      "1014   51                 2                  3                           4   \n",
      "373    32                 2                  1                           3   \n",
      "1100   45                10                  2                           1   \n",
      "685    28                16                  3                           3   \n",
      "783    32                16                  1                           2   \n",
      "208    40                20                  4                           1   \n",
      "871    43                28                  3                           2   \n",
      "665    31                10                  2                           3   \n",
      "48     50                 2                  3                           3   \n",
      "72     51                26                  4                           1   \n",
      "1007   31                 5                  3                           4   \n",
      "1099   52                 3                  3                           4   \n",
      "863    33                22                  2                           3   \n",
      "1068   21                12                  3                           3   \n",
      "249    35                 8                  4                           3   \n",
      "572    45                 4                  3                           3   \n",
      "1185   35                 6                  4                           2   \n",
      "835    23                 2                  1                           3   \n",
      "135    35                18                  3                           3   \n",
      "736    23                 9                  3                           4   \n",
      "1158   26                28                  2                           1   \n",
      "501    35                18                  5                           2   \n",
      "199    55                 2                  1                           3   \n",
      "4      60                16                  4                           1   \n",
      "471    53                 2                  5                           3   \n",
      "820    45                 7                  3                           2   \n",
      "1077   55                 2                  3                           3   \n",
      "1154   38                10                  3                           3   \n",
      "263    32                 2                  1                           3   \n",
      "1199   24                 3                  2                           1   \n",
      "\n",
      "      EmpHourlyRate  EmpJobInvolvement  EmpJobLevel  EmpJobSatisfaction  \\\n",
      "280              97                  3            1                   2   \n",
      "448              86                  3            1                   1   \n",
      "390              50                  1            1                   3   \n",
      "138              62                  3            3                   3   \n",
      "383              60                  3            3                   4   \n",
      "1110             90                  3            1                   4   \n",
      "273              74                  1            1                   3   \n",
      "1030             85                  3            1                   2   \n",
      "292              53                  3            3                   3   \n",
      "816              43                  2            5                   3   \n",
      "889              43                  3            3                   4   \n",
      "470              69                  3            1                   1   \n",
      "441              69                  3            2                   3   \n",
      "1142             95                  4            4                   3   \n",
      "648              63                  2            2                   3   \n",
      "0                55                  3            2                   4   \n",
      "583              80                  3            2                   4   \n",
      "320              56                  2            3                   4   \n",
      "907              30                  3            2                   1   \n",
      "463              98                  2            1                   3   \n",
      "85               77                  2            1                   1   \n",
      "1097             79                  3            2                   1   \n",
      "995              44                  4            2                   1   \n",
      "944              52                  2            2                   1   \n",
      "701              30                  3            3                   3   \n",
      "754              62                  1            1                   4   \n",
      "1189             70                  3            1                   1   \n",
      "1132             32                  3            3                   4   \n",
      "1102             92                  3            2                   3   \n",
      "354              54                  3            3                   4   \n",
      "...             ...                ...          ...                 ...   \n",
      "1014             84                  1            2                   2   \n",
      "373              36                  3            2                   2   \n",
      "1100             69                  3            1                   4   \n",
      "685              49                  3            1                   3   \n",
      "783              72                  1            1                   1   \n",
      "208              61                  3            3                   4   \n",
      "871              72                  4            1                   3   \n",
      "665              86                  3            2                   4   \n",
      "48               64                  3            4                   3   \n",
      "72               66                  3            4                   3   \n",
      "1007             84                  3            1                   2   \n",
      "1099             39                  2            3                   3   \n",
      "863              95                  3            2                   2   \n",
      "1068             90                  4            1                   2   \n",
      "249             100                  3            1                   3   \n",
      "572              56                  1            3                   3   \n",
      "1185             82                  1            2                   4   \n",
      "835              62                  3            1                   1   \n",
      "135              86                  3            2                   3   \n",
      "736              33                  3            1                   1   \n",
      "1158             66                  3            2                   2   \n",
      "501              48                  4            2                   1   \n",
      "199              40                  2            4                   1   \n",
      "4                84                  3            2                   1   \n",
      "471              78                  2            3                   4   \n",
      "820              59                  3            3                   1   \n",
      "1077             97                  3            4                   4   \n",
      "1154             76                  3            2                   3   \n",
      "263              76                  3            1                   1   \n",
      "1199             65                  3            2                   3   \n",
      "\n",
      "      NumCompaniesWorked  EmpLastSalaryHikePercent      ...        \\\n",
      "280                    1                        13      ...         \n",
      "448                    3                        14      ...         \n",
      "390                    1                        12      ...         \n",
      "138                    5                        11      ...         \n",
      "383                    2                        11      ...         \n",
      "1110                   1                        22      ...         \n",
      "273                    2                        13      ...         \n",
      "1030                   1                        12      ...         \n",
      "292                    7                        17      ...         \n",
      "816                    5                        12      ...         \n",
      "889                    1                        14      ...         \n",
      "470                    1                        12      ...         \n",
      "441                    2                        17      ...         \n",
      "1142                   4                        19      ...         \n",
      "648                    1                        13      ...         \n",
      "0                      1                        12      ...         \n",
      "583                    3                        12      ...         \n",
      "320                    3                        14      ...         \n",
      "907                    4                        11      ...         \n",
      "463                    0                        23      ...         \n",
      "85                     0                        21      ...         \n",
      "1097                   1                        12      ...         \n",
      "995                    1                        24      ...         \n",
      "944                    5                        15      ...         \n",
      "701                    1                        17      ...         \n",
      "754                    1                        12      ...         \n",
      "1189                   1                        11      ...         \n",
      "1132                   1                        14      ...         \n",
      "1102                   2                        11      ...         \n",
      "354                    1                        11      ...         \n",
      "...                  ...                       ...      ...         \n",
      "1014                   5                        18      ...         \n",
      "373                    0                        13      ...         \n",
      "1100                   3                        21      ...         \n",
      "685                    1                        14      ...         \n",
      "783                    1                        22      ...         \n",
      "208                    4                        20      ...         \n",
      "871                    4                        12      ...         \n",
      "665                    2                        11      ...         \n",
      "48                     5                        16      ...         \n",
      "72                     2                        14      ...         \n",
      "1007                   1                        11      ...         \n",
      "1099                   2                        14      ...         \n",
      "863                    0                        13      ...         \n",
      "1068                   1                        15      ...         \n",
      "249                    1                        17      ...         \n",
      "572                    4                        21      ...         \n",
      "1185                   1                        13      ...         \n",
      "835                    3                        13      ...         \n",
      "135                    1                        16      ...         \n",
      "736                    1                        19      ...         \n",
      "1158                   1                        20      ...         \n",
      "501                    1                        11      ...         \n",
      "199                    7                        15      ...         \n",
      "4                      8                        14      ...         \n",
      "471                    0                        16      ...         \n",
      "820                    2                        17      ...         \n",
      "1077                   2                        13      ...         \n",
      "1154                   3                        19      ...         \n",
      "263                    1                        12      ...         \n",
      "1199                   9                        14      ...         \n",
      "\n",
      "      EmpJobRole_Senior Manager R&D  EmpJobRole_Technical Architect  \\\n",
      "280                               0                               0   \n",
      "448                               0                               0   \n",
      "390                               0                               0   \n",
      "138                               0                               0   \n",
      "383                               0                               0   \n",
      "1110                              0                               0   \n",
      "273                               0                               0   \n",
      "1030                              0                               0   \n",
      "292                               0                               0   \n",
      "816                               0                               0   \n",
      "889                               0                               0   \n",
      "470                               0                               0   \n",
      "441                               0                               0   \n",
      "1142                              0                               0   \n",
      "648                               0                               0   \n",
      "0                                 0                               0   \n",
      "583                               0                               0   \n",
      "320                               0                               0   \n",
      "907                               0                               0   \n",
      "463                               0                               0   \n",
      "85                                0                               0   \n",
      "1097                              0                               0   \n",
      "995                               0                               0   \n",
      "944                               0                               0   \n",
      "701                               0                               0   \n",
      "754                               0                               0   \n",
      "1189                              0                               0   \n",
      "1132                              0                               0   \n",
      "1102                              0                               0   \n",
      "354                               0                               0   \n",
      "...                             ...                             ...   \n",
      "1014                              0                               0   \n",
      "373                               0                               0   \n",
      "1100                              0                               0   \n",
      "685                               0                               0   \n",
      "783                               0                               0   \n",
      "208                               1                               0   \n",
      "871                               0                               0   \n",
      "665                               0                               0   \n",
      "48                                0                               0   \n",
      "72                                0                               0   \n",
      "1007                              0                               0   \n",
      "1099                              0                               0   \n",
      "863                               0                               0   \n",
      "1068                              0                               0   \n",
      "249                               0                               0   \n",
      "572                               0                               0   \n",
      "1185                              0                               0   \n",
      "835                               0                               0   \n",
      "135                               0                               0   \n",
      "736                               0                               0   \n",
      "1158                              0                               0   \n",
      "501                               0                               0   \n",
      "199                               0                               0   \n",
      "4                                 0                               0   \n",
      "471                               0                               0   \n",
      "820                               0                               0   \n",
      "1077                              0                               0   \n",
      "1154                              0                               0   \n",
      "263                               0                               0   \n",
      "1199                              0                               0   \n",
      "\n",
      "      EmpJobRole_Technical Lead  BusinessTravelFrequency_Non-Travel  \\\n",
      "280                           0                                   0   \n",
      "448                           0                                   0   \n",
      "390                           0                                   0   \n",
      "138                           0                                   0   \n",
      "383                           0                                   0   \n",
      "1110                          0                                   0   \n",
      "273                           0                                   1   \n",
      "1030                          1                                   0   \n",
      "292                           0                                   0   \n",
      "816                           0                                   0   \n",
      "889                           0                                   0   \n",
      "470                           0                                   0   \n",
      "441                           0                                   0   \n",
      "1142                          0                                   0   \n",
      "648                           0                                   0   \n",
      "0                             0                                   0   \n",
      "583                           0                                   0   \n",
      "320                           0                                   0   \n",
      "907                           0                                   0   \n",
      "463                           0                                   0   \n",
      "85                            0                                   0   \n",
      "1097                          0                                   0   \n",
      "995                           0                                   0   \n",
      "944                           0                                   0   \n",
      "701                           0                                   0   \n",
      "754                           0                                   0   \n",
      "1189                          0                                   0   \n",
      "1132                          0                                   1   \n",
      "1102                          0                                   0   \n",
      "354                           0                                   0   \n",
      "...                         ...                                 ...   \n",
      "1014                          1                                   0   \n",
      "373                           0                                   0   \n",
      "1100                          0                                   0   \n",
      "685                           0                                   1   \n",
      "783                           0                                   0   \n",
      "208                           0                                   0   \n",
      "871                           0                                   0   \n",
      "665                           0                                   0   \n",
      "48                            0                                   0   \n",
      "72                            0                                   0   \n",
      "1007                          0                                   0   \n",
      "1099                          0                                   0   \n",
      "863                           0                                   1   \n",
      "1068                          0                                   0   \n",
      "249                           0                                   0   \n",
      "572                           0                                   0   \n",
      "1185                          0                                   0   \n",
      "835                           0                                   0   \n",
      "135                           0                                   0   \n",
      "736                           0                                   0   \n",
      "1158                          0                                   0   \n",
      "501                           0                                   0   \n",
      "199                           0                                   1   \n",
      "4                             0                                   0   \n",
      "471                           0                                   0   \n",
      "820                           0                                   0   \n",
      "1077                          0                                   0   \n",
      "1154                          0                                   0   \n",
      "263                           0                                   1   \n",
      "1199                          0                                   0   \n",
      "\n",
      "      BusinessTravelFrequency_Travel_Frequently  \\\n",
      "280                                           0   \n",
      "448                                           0   \n",
      "390                                           1   \n",
      "138                                           0   \n",
      "383                                           1   \n",
      "1110                                          0   \n",
      "273                                           0   \n",
      "1030                                          0   \n",
      "292                                           1   \n",
      "816                                           0   \n",
      "889                                           1   \n",
      "470                                           0   \n",
      "441                                           0   \n",
      "1142                                          0   \n",
      "648                                           0   \n",
      "0                                             0   \n",
      "583                                           0   \n",
      "320                                           0   \n",
      "907                                           0   \n",
      "463                                           0   \n",
      "85                                            0   \n",
      "1097                                          0   \n",
      "995                                           0   \n",
      "944                                           1   \n",
      "701                                           0   \n",
      "754                                           0   \n",
      "1189                                          1   \n",
      "1132                                          0   \n",
      "1102                                          1   \n",
      "354                                           0   \n",
      "...                                         ...   \n",
      "1014                                          0   \n",
      "373                                           0   \n",
      "1100                                          0   \n",
      "685                                           0   \n",
      "783                                           1   \n",
      "208                                           0   \n",
      "871                                           1   \n",
      "665                                           0   \n",
      "48                                            0   \n",
      "72                                            0   \n",
      "1007                                          1   \n",
      "1099                                          0   \n",
      "863                                           0   \n",
      "1068                                          0   \n",
      "249                                           0   \n",
      "572                                           0   \n",
      "1185                                          0   \n",
      "835                                           0   \n",
      "135                                           0   \n",
      "736                                           1   \n",
      "1158                                          0   \n",
      "501                                           0   \n",
      "199                                           0   \n",
      "4                                             0   \n",
      "471                                           0   \n",
      "820                                           0   \n",
      "1077                                          0   \n",
      "1154                                          0   \n",
      "263                                           0   \n",
      "1199                                          0   \n",
      "\n",
      "      BusinessTravelFrequency_Travel_Rarely  OverTime_No  OverTime_Yes  \\\n",
      "280                                       1            1             0   \n",
      "448                                       1            1             0   \n",
      "390                                       0            1             0   \n",
      "138                                       1            1             0   \n",
      "383                                       0            1             0   \n",
      "1110                                      1            1             0   \n",
      "273                                       0            1             0   \n",
      "1030                                      1            0             1   \n",
      "292                                       0            1             0   \n",
      "816                                       1            0             1   \n",
      "889                                       0            1             0   \n",
      "470                                       1            0             1   \n",
      "441                                       1            0             1   \n",
      "1142                                      1            1             0   \n",
      "648                                       1            0             1   \n",
      "0                                         1            1             0   \n",
      "583                                       1            1             0   \n",
      "320                                       1            1             0   \n",
      "907                                       1            0             1   \n",
      "463                                       1            1             0   \n",
      "85                                        1            1             0   \n",
      "1097                                      1            1             0   \n",
      "995                                       1            0             1   \n",
      "944                                       0            1             0   \n",
      "701                                       1            1             0   \n",
      "754                                       1            1             0   \n",
      "1189                                      0            0             1   \n",
      "1132                                      0            1             0   \n",
      "1102                                      0            1             0   \n",
      "354                                       1            1             0   \n",
      "...                                     ...          ...           ...   \n",
      "1014                                      1            1             0   \n",
      "373                                       1            0             1   \n",
      "1100                                      1            1             0   \n",
      "685                                       0            1             0   \n",
      "783                                       0            0             1   \n",
      "208                                       1            1             0   \n",
      "871                                       0            1             0   \n",
      "665                                       1            0             1   \n",
      "48                                        1            1             0   \n",
      "72                                        1            1             0   \n",
      "1007                                      0            1             0   \n",
      "1099                                      1            0             1   \n",
      "863                                       0            1             0   \n",
      "1068                                      1            1             0   \n",
      "249                                       1            1             0   \n",
      "572                                       1            1             0   \n",
      "1185                                      1            1             0   \n",
      "835                                       1            1             0   \n",
      "135                                       1            1             0   \n",
      "736                                       0            1             0   \n",
      "1158                                      1            1             0   \n",
      "501                                       1            1             0   \n",
      "199                                       0            1             0   \n",
      "4                                         1            1             0   \n",
      "471                                       1            1             0   \n",
      "820                                       1            1             0   \n",
      "1077                                      1            0             1   \n",
      "1154                                      1            1             0   \n",
      "263                                       0            1             0   \n",
      "1199                                      1            1             0   \n",
      "\n",
      "      Attrition_No  Attrition_Yes  \n",
      "280              0              1  \n",
      "448              0              1  \n",
      "390              0              1  \n",
      "138              1              0  \n",
      "383              1              0  \n",
      "1110             1              0  \n",
      "273              1              0  \n",
      "1030             1              0  \n",
      "292              1              0  \n",
      "816              1              0  \n",
      "889              1              0  \n",
      "470              0              1  \n",
      "441              1              0  \n",
      "1142             1              0  \n",
      "648              1              0  \n",
      "0                1              0  \n",
      "583              1              0  \n",
      "320              1              0  \n",
      "907              1              0  \n",
      "463              1              0  \n",
      "85               1              0  \n",
      "1097             1              0  \n",
      "995              1              0  \n",
      "944              0              1  \n",
      "701              1              0  \n",
      "754              1              0  \n",
      "1189             0              1  \n",
      "1132             1              0  \n",
      "1102             1              0  \n",
      "354              1              0  \n",
      "...            ...            ...  \n",
      "1014             1              0  \n",
      "373              1              0  \n",
      "1100             1              0  \n",
      "685              1              0  \n",
      "783              0              1  \n",
      "208              1              0  \n",
      "871              1              0  \n",
      "665              1              0  \n",
      "48               1              0  \n",
      "72               1              0  \n",
      "1007             1              0  \n",
      "1099             1              0  \n",
      "863              1              0  \n",
      "1068             0              1  \n",
      "249              1              0  \n",
      "572              1              0  \n",
      "1185             1              0  \n",
      "835              1              0  \n",
      "135              1              0  \n",
      "736              0              1  \n",
      "1158             1              0  \n",
      "501              1              0  \n",
      "199              1              0  \n",
      "4                1              0  \n",
      "471              0              1  \n",
      "820              1              0  \n",
      "1077             1              0  \n",
      "1154             1              0  \n",
      "263              1              0  \n",
      "1199             0              1  \n",
      "\n",
      "[780 rows x 61 columns]\n"
     ]
    }
   ],
   "source": [
    "print(attri_train)"
   ]
  },
  {
   "cell_type": "markdown",
   "metadata": {},
   "source": [
    "### Applying Decision Tree Algorithm"
   ]
  },
  {
   "cell_type": "code",
   "execution_count": 10,
   "metadata": {},
   "outputs": [
    {
     "data": {
      "text/plain": [
       "91.42857142857143"
      ]
     },
     "execution_count": 10,
     "metadata": {},
     "output_type": "execute_result"
    }
   ],
   "source": [
    "from sklearn.tree import DecisionTreeClassifier\n",
    "from sklearn.metrics import accuracy_score\n",
    "tr=DecisionTreeClassifier(max_depth=5)\n",
    "tr.fit(attri_train,classs_train)\n",
    "tr1=tr.predict(attri_test)\n",
    "accuracy_score(classs_test,tr1)*100"
   ]
  },
  {
   "cell_type": "markdown",
   "metadata": {},
   "source": [
    "### Applying KNN [K Nearest Neighbour] Algorithm"
   ]
  },
  {
   "cell_type": "code",
   "execution_count": 11,
   "metadata": {},
   "outputs": [
    {
     "data": {
      "text/plain": [
       "0.7309523809523809"
      ]
     },
     "execution_count": 11,
     "metadata": {},
     "output_type": "execute_result"
    }
   ],
   "source": [
    "from sklearn.neighbors import KNeighborsClassifier\n",
    "ds=KNeighborsClassifier(11)\n",
    "ds.fit(attri_train,classs_train)\n",
    "ds1=ds.predict(attri_test)\n",
    "accuracy_score(classs_test,ds1)"
   ]
  },
  {
   "cell_type": "markdown",
   "metadata": {},
   "source": [
    "### Applying SVM [Support Vector Machine] Algorithm"
   ]
  },
  {
   "cell_type": "code",
   "execution_count": 12,
   "metadata": {},
   "outputs": [
    {
     "data": {
      "text/plain": [
       "0.7476190476190476"
      ]
     },
     "execution_count": 12,
     "metadata": {},
     "output_type": "execute_result"
    }
   ],
   "source": [
    "from sklearn.svm import SVC\n",
    "svm = SVC(kernel = \"rbf\", C=10, gamma=2)\n",
    "svm.fit(attri_train,classs_train)\n",
    "sv1=svm.predict(attri_test)\n",
    "accuracy_score(classs_test,sv1)\n"
   ]
  },
  {
   "cell_type": "markdown",
   "metadata": {},
   "source": [
    "### Applying Random Forest Algorithm"
   ]
  },
  {
   "cell_type": "code",
   "execution_count": 13,
   "metadata": {},
   "outputs": [
    {
     "data": {
      "text/plain": [
       "0.8976190476190476"
      ]
     },
     "execution_count": 13,
     "metadata": {},
     "output_type": "execute_result"
    }
   ],
   "source": [
    "from sklearn.ensemble import RandomForestClassifier\n",
    "lm = RandomForestClassifier(n_estimators=20)\n",
    "lm.fit(attri_train,classs_train)\n",
    "lm1=lm.predict(attri_test)\n",
    "accuracy_score(classs_test,lm1)\n"
   ]
  },
  {
   "cell_type": "markdown",
   "metadata": {},
   "source": [
    "### Data splitting with respect to three attributes"
   ]
  },
  {
   "cell_type": "code",
   "execution_count": 14,
   "metadata": {},
   "outputs": [],
   "source": [
    "attri=perfo[[\"EmpEnvironmentSatisfaction\",\"EmpLastSalaryHikePercent\",\"EmpWorkLifeBalance\"]]\n",
    "classs=perfo.PerformanceRating"
   ]
  },
  {
   "cell_type": "code",
   "execution_count": 15,
   "metadata": {},
   "outputs": [
    {
     "name": "stdout",
     "output_type": "stream",
     "text": [
      "0.03946685189819292 0.9982683969692436\n"
     ]
    }
   ],
   "source": [
    "from sklearn.preprocessing import normalize#rescaling of data so that all the datas are from 0 to 1\n",
    "normal1=normalize(attri)\n",
    "normal1\n",
    "print(normal1.min(),normal1.max())"
   ]
  },
  {
   "cell_type": "code",
   "execution_count": 16,
   "metadata": {},
   "outputs": [],
   "source": [
    "attri_train,attri_test,classs_train,classs_test=train_test_split(attri,classs,test_size=0.3,random_state=0)"
   ]
  },
  {
   "cell_type": "markdown",
   "metadata": {},
   "source": [
    "### Applying Decision Tree Algorithm"
   ]
  },
  {
   "cell_type": "code",
   "execution_count": 17,
   "metadata": {},
   "outputs": [
    {
     "data": {
      "text/plain": [
       "82.5"
      ]
     },
     "execution_count": 17,
     "metadata": {},
     "output_type": "execute_result"
    }
   ],
   "source": [
    "from sklearn.tree import DecisionTreeClassifier\n",
    "from sklearn.metrics import accuracy_score\n",
    "tr=DecisionTreeClassifier(max_depth=3)\n",
    "tr.fit(attri_train,classs_train)\n",
    "tr1=tr.predict(attri_test)\n",
    "accuracy_score(classs_test,tr1)*100"
   ]
  },
  {
   "cell_type": "markdown",
   "metadata": {},
   "source": [
    "### Applying KNN [K Nearest Neighbour] Algorithm"
   ]
  },
  {
   "cell_type": "code",
   "execution_count": 18,
   "metadata": {},
   "outputs": [
    {
     "data": {
      "text/plain": [
       "0.7888888888888889"
      ]
     },
     "execution_count": 18,
     "metadata": {},
     "output_type": "execute_result"
    }
   ],
   "source": [
    "from sklearn.neighbors import KNeighborsClassifier\n",
    "ds=KNeighborsClassifier(11)\n",
    "ds.fit(attri_train,classs_train)\n",
    "ds1=ds.predict(attri_test)\n",
    "accuracy_score(classs_test,ds1)"
   ]
  },
  {
   "cell_type": "markdown",
   "metadata": {},
   "source": [
    "### Applying SVM [Support Vector Machine] Algorithm"
   ]
  },
  {
   "cell_type": "code",
   "execution_count": 19,
   "metadata": {},
   "outputs": [
    {
     "data": {
      "text/plain": [
       "0.7833333333333333"
      ]
     },
     "execution_count": 19,
     "metadata": {},
     "output_type": "execute_result"
    }
   ],
   "source": [
    "from sklearn.svm import SVC\n",
    "svm = SVC(kernel = \"rbf\",C=10, gamma=3)\n",
    "svm.fit(attri_train,classs_train)\n",
    "sv1=svm.predict(attri_test)\n",
    "accuracy_score(classs_test,sv1)"
   ]
  },
  {
   "cell_type": "markdown",
   "metadata": {},
   "source": [
    "### Applying Random Forest Algorithm"
   ]
  },
  {
   "cell_type": "code",
   "execution_count": 20,
   "metadata": {},
   "outputs": [
    {
     "data": {
      "text/plain": [
       "0.7694444444444445"
      ]
     },
     "execution_count": 20,
     "metadata": {},
     "output_type": "execute_result"
    }
   ],
   "source": [
    "from sklearn.ensemble import RandomForestClassifier\n",
    "lm = RandomForestClassifier(n_estimators=11, random_state=0)\n",
    "lm.fit(attri_train,classs_train)\n",
    "lm1=lm.predict(attri_test)\n",
    "accuracy_score(classs_test,lm1)\n"
   ]
  }
 ],
 "metadata": {
  "kernelspec": {
   "display_name": "Python 3",
   "language": "python",
   "name": "python3"
  },
  "language_info": {
   "codemirror_mode": {
    "name": "ipython",
    "version": 3
   },
   "file_extension": ".py",
   "mimetype": "text/x-python",
   "name": "python",
   "nbconvert_exporter": "python",
   "pygments_lexer": "ipython3",
   "version": "3.6.7"
  }
 },
 "nbformat": 4,
 "nbformat_minor": 2
}
